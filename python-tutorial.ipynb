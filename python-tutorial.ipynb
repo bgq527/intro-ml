{
 "cells": [
  {
   "cell_type": "markdown",
   "metadata": {},
   "source": [
    "# Python Tutorial"
   ]
  },
  {
   "cell_type": "markdown",
   "metadata": {},
   "source": [
    "## Standard syntax\n",
    "- Python is dynamically typed -- therefore you do not need to explicitly state a variable's data type.\n",
    "- Scope is based on white space, so no use of brackets for methods, loops, etc. (brackets are used for the dictionary data type)\n",
    "- Do not need ```;``` to end lines"
   ]
  },
  {
   "cell_type": "code",
   "execution_count": 1,
   "metadata": {},
   "outputs": [
    {
     "name": "stdout",
     "output_type": "stream",
     "text": [
      "5\n",
      "Hello, world\n",
      "Type of my string: <class 'int'>\n"
     ]
    }
   ],
   "source": [
    "x = 5\n",
    "print(x)\n",
    "\n",
    "my_string = \"Hello, world\"\n",
    "print(my_string)\n",
    "\n",
    "# You can get confused to you set a variable's value to something it was not named for, for example:\n",
    "my_string = 3908274213408\n",
    "print(f\"Type of my string: {type(my_string)}\")"
   ]
  },
  {
   "cell_type": "markdown",
   "metadata": {},
   "source": [
    "## Data Types\n",
    "\n",
    "### Numbers\n",
    "\n",
    "- There are three types of \"number\" datatypes\n",
    "    - Integers (no distinctions to long, etc.)\n",
    "    - Floats (no distinction to doubles, etc.)\n",
    "    - Complex variables"
   ]
  },
  {
   "cell_type": "code",
   "execution_count": 2,
   "metadata": {},
   "outputs": [
    {
     "name": "stdout",
     "output_type": "stream",
     "text": [
      "Type of integer_var: <class 'int'>\n",
      "Type of float_var: <class 'float'>\n",
      "Type of complex_var: <class 'complex'>\n"
     ]
    }
   ],
   "source": [
    "integer_var = 3\n",
    "float_var = 3.1\n",
    "complex_var = 3+2j\n",
    "\n",
    "print(f\"Type of integer_var: {type(integer_var)}\")\n",
    "print(f\"Type of float_var: {type(float_var)}\")\n",
    "print(f\"Type of complex_var: {type(complex_var)}\")"
   ]
  },
  {
   "cell_type": "markdown",
   "metadata": {},
   "source": [
    "### Strings\n",
    "\n",
    "- Python does not have the ```char``` datatype, and there is no real distinction between char and strings. Thus, you can ```''``` or ```\"\"``` to make strings"
   ]
  },
  {
   "cell_type": "code",
   "execution_count": 3,
   "metadata": {},
   "outputs": [
    {
     "name": "stdout",
     "output_type": "stream",
     "text": [
      "You can make a string using double quotes\n",
      "You can also make a string using single quotes\n"
     ]
    }
   ],
   "source": [
    "print(\"You can make a string using double quotes\")\n",
    "print('You can also make a string using single quotes')"
   ]
  },
  {
   "cell_type": "markdown",
   "metadata": {},
   "source": [
    "- There are many additional string methods available"
   ]
  },
  {
   "cell_type": "code",
   "execution_count": 4,
   "metadata": {},
   "outputs": [
    {
     "name": "stdout",
     "output_type": "stream",
     "text": [
      "my whole name is bob builder\n",
      "MY WHOLE NAME IS BOB BUILDER\n",
      "My whole name is Bran, The Builder\n"
     ]
    }
   ],
   "source": [
    "statement = \"My whole name is Bob Builder\"\n",
    "print(statement.lower())\n",
    "print(statement.upper())\n",
    "print(statement.replace('Bob', 'Bran, The'))"
   ]
  },
  {
   "cell_type": "markdown",
   "metadata": {},
   "source": [
    "- Additionally, as you have seen before, *formatted strings* (denoted by the use of ```f\"\"``` or ```f''``` allow the easy use of variables within strings\n",
    "    - You would put your variable/object/one-lined statements that you would like to convert into a string within ```{}```."
   ]
  },
  {
   "cell_type": "code",
   "execution_count": 5,
   "metadata": {},
   "outputs": [
    {
     "name": "stdout",
     "output_type": "stream",
     "text": [
      "The number is: 0 and it is even\n",
      "The number is: 1 and it is false\n",
      "The number is: 2 and it is even\n",
      "The number is: 3 and it is false\n",
      "The number is: 4 and it is even\n",
      "The number is: 5 and it is false\n"
     ]
    }
   ],
   "source": [
    "for number in range(6):\n",
    "    print(f\"The number is: {number} and it is {'even' if number % 2 == 0 else 'false'}\")"
   ]
  },
  {
   "cell_type": "markdown",
   "metadata": {},
   "source": [
    "### Lists\n",
    "\n",
    "- Arrays don't exist in Python (unless you use libraries such as numpy or libraries that rely on numpy/wrapper code). Instead, Python only has lists.\n",
    "- Due to dynamic typing, lists also don't have a fixed type (they are like object arrays). You can shove a whole bunch of different objects into lists. \n",
    "- List indices start at 0."
   ]
  },
  {
   "cell_type": "code",
   "execution_count": 6,
   "metadata": {},
   "outputs": [
    {
     "name": "stdout",
     "output_type": "stream",
     "text": [
      "['hello', 0, {'name': 'Dax'}]\n",
      "[<class 'str'>, <class 'int'>, <class 'dict'>]\n"
     ]
    }
   ],
   "source": [
    "my_list = [\"hello\", 0, {\"name\": \"Dax\"}]\n",
    "\n",
    "print(my_list) # Prints fine, no exception\n",
    "print([type(item) for item in my_list])"
   ]
  },
  {
   "cell_type": "markdown",
   "metadata": {},
   "source": [
    "- Adding, removing, and popping elements are pretty easy"
   ]
  },
  {
   "cell_type": "code",
   "execution_count": 7,
   "metadata": {},
   "outputs": [
    {
     "name": "stdout",
     "output_type": "stream",
     "text": [
      "[0, 15, 32, 99, 852, 16, 82]\n",
      "[0, 32, 99, 852, 16, 82]\n",
      "[0, 32, 99, 16, 82]\n",
      "99 [0, 32, 16, 82]\n",
      "[82, 16, 32, 0]\n",
      "[0, 16, 32, 82]\n",
      "Minimum number: 0, maximum number: 82\n"
     ]
    }
   ],
   "source": [
    "number_list = [0, 15, 32, 99, 852, 16]\n",
    "\n",
    "number_list.append(82) # Adds 82 to the end of the list\n",
    "print(number_list)\n",
    "\n",
    "number_list.remove(15) # Removes the value 15\n",
    "print(number_list)\n",
    "\n",
    "del number_list[3] # Removes object at index 3\n",
    "print(number_list)\n",
    "\n",
    "number = number_list.pop(2) # Removes the value at index 2 and returns it\n",
    "print(number, number_list)\n",
    "\n",
    "number_list.reverse() # Reverses the list in place\n",
    "print(number_list)\n",
    "\n",
    "number_list.sort() # Sorts the list\n",
    "print(number_list)\n",
    "\n",
    "minimum = min(number_list)\n",
    "maximum = max(number_list)\n",
    "print(f\"Minimum number: {minimum}, maximum number: {maximum}\")"
   ]
  },
  {
   "cell_type": "markdown",
   "metadata": {},
   "source": [
    "- Due to the fact that lists do not have fixed datatypes, making multi-dimensional arrays are pretty simple. \n",
    "    - This is not recommended, however, if you have high-dimensionality arrays as libraries made for ndarrays (such as numpy) are wrappers for C code that are *much* more efficient."
   ]
  },
  {
   "cell_type": "code",
   "execution_count": 8,
   "metadata": {},
   "outputs": [
    {
     "name": "stdout",
     "output_type": "stream",
     "text": [
      "[[1, 2], [2, 5], ['cat', 'dog']]\n"
     ]
    }
   ],
   "source": [
    "my_2d_array = [[1, 2], [2, 5], [\"cat\", \"dog\"]]\n",
    "print(my_2d_array)"
   ]
  },
  {
   "cell_type": "markdown",
   "metadata": {},
   "source": [
    "### Dictionaries\n",
    "\n",
    "- Initialized by ```var = {}``` or ```var = {'hello': 0, 'one': 1}```\n",
    "- Like lists, dictionaries don't have a set type. You can add different types of objects within the same dictionary"
   ]
  },
  {
   "cell_type": "code",
   "execution_count": 9,
   "metadata": {},
   "outputs": [
    {
     "name": "stdout",
     "output_type": "stream",
     "text": [
      "Dax's age is: 22\n",
      "Dr. Liang's age is: professor age\n",
      "Tucker's age is: ['zoomer', 'age']\n"
     ]
    }
   ],
   "source": [
    "my_age_dictionary = {'Dax': 22, 'Liang': 'professor age', 'Tucker': ['zoomer', 'age']}\n",
    "print(f\"Dax's age is: {my_age_dictionary['Dax']}\")\n",
    "print(f\"Dr. Liang's age is: {my_age_dictionary['Liang']}\")\n",
    "print(f\"Tucker's age is: {my_age_dictionary['Tucker']}\")"
   ]
  },
  {
   "cell_type": "markdown",
   "metadata": {},
   "source": [
    "- You can set and variables by simply setting the dictionary at a certain key"
   ]
  },
  {
   "cell_type": "code",
   "execution_count": 10,
   "metadata": {},
   "outputs": [
    {
     "name": "stdout",
     "output_type": "stream",
     "text": [
      "{'something': 'exists', (3+2j): 'its complicated'}\n",
      "its complicated\n"
     ]
    }
   ],
   "source": [
    "my_dictionary = {}\n",
    "my_dictionary['something'] = 'exists'\n",
    "my_dictionary[3+2j] = 'its complicated'\n",
    "\n",
    "print(my_dictionary)\n",
    "print(my_dictionary[3+2j])"
   ]
  },
  {
   "cell_type": "markdown",
   "metadata": {},
   "source": [
    "### Loops\n",
    "\n",
    "- Loops, in a sense, are always the \"shorthand\" version of loops found in other programming languages. Therefore, things like this can be done:"
   ]
  },
  {
   "cell_type": "code",
   "execution_count": 11,
   "metadata": {},
   "outputs": [
    {
     "name": "stdout",
     "output_type": "stream",
     "text": [
      "1\n",
      "2\n",
      "2\n",
      "5\n",
      "cat\n",
      "dog\n"
     ]
    }
   ],
   "source": [
    "my_2d_array = [[1, 2], [2, 5], [\"cat\", \"dog\"]]\n",
    "\n",
    "for row in my_2d_array:\n",
    "    for value in row:\n",
    "        print(value)"
   ]
  },
  {
   "cell_type": "markdown",
   "metadata": {},
   "source": [
    "- More standard looking for loops can be made using ```range()```"
   ]
  },
  {
   "cell_type": "code",
   "execution_count": 12,
   "metadata": {},
   "outputs": [
    {
     "name": "stdout",
     "output_type": "stream",
     "text": [
      "[1, 2]\n",
      "[2, 5]\n",
      "['cat', 'dog']\n",
      "[1, 2]\n",
      "[2, 5]\n",
      "['cat', 'dog']\n"
     ]
    }
   ],
   "source": [
    "# A more standard for loop analogous to i = 0; i < len(list); i++\n",
    "for i in range(0, len(my_2d_array), 1):\n",
    "    print(my_2d_array[i])\n",
    "\n",
    "# Shorthand exists for range as well:\n",
    "for i in range(len(my_2d_array)): # Handing one parameter automatically stops at the explicit parameter, starting at 0, and iteraring 1\n",
    "    print(my_2d_array[i])\n"
   ]
  },
  {
   "cell_type": "markdown",
   "metadata": {},
   "source": [
    "- For loops with else statements (for-else loops) also exist and can be quite helpful, say for simple search algorithms\n",
    "    - For-else loops work on the notion that you will break the for-loop yourself. If the for loop reaches its terminating state/the end of all objects, it executes the else statement."
   ]
  },
  {
   "cell_type": "code",
   "execution_count": 13,
   "metadata": {},
   "outputs": [
    {
     "name": "stdout",
     "output_type": "stream",
     "text": [
      "Found Dax!\n",
      "Did not find Evan!\n"
     ]
    }
   ],
   "source": [
    "names = ['Tucker', 'Dax', 'Dr. Liang']\n",
    "\n",
    "for name in names:\n",
    "    if name == \"Dax\":\n",
    "        print(\"Found Dax!\")\n",
    "        \n",
    "        # This should break the for loop and not execute the else statement\n",
    "        break\n",
    "else:\n",
    "    print(\"Did not find Dax!\")\n",
    "\n",
    "for name in names:\n",
    "    if name == \"Evan\":\n",
    "        print(\"Found Evan!\")\n",
    "        \n",
    "        # This loop should not break and it will execute the else statement\n",
    "        break\n",
    "else:\n",
    "    print(\"Did not find Evan!\")\n",
    "\n"
   ]
  },
  {
   "cell_type": "markdown",
   "metadata": {},
   "source": [
    "- While loops are as expected"
   ]
  },
  {
   "cell_type": "code",
   "execution_count": 14,
   "metadata": {},
   "outputs": [
    {
     "name": "stdout",
     "output_type": "stream",
     "text": [
      "0\n",
      "1\n",
      "2\n",
      "3\n",
      "4\n",
      "5\n"
     ]
    }
   ],
   "source": [
    "some_int = 0\n",
    "while(True):\n",
    "    print(some_int)\n",
    "    \n",
    "    some_int += 1 # some_int++ does not exist in Python\n",
    "    if some_int > 5:\n",
    "        break"
   ]
  },
  {
   "cell_type": "markdown",
   "metadata": {},
   "source": [
    "## Functions\n",
    "\n",
    "- Defining functions are pretty simple as you do not need to state what datatype they return"
   ]
  },
  {
   "cell_type": "code",
   "execution_count": 1,
   "metadata": {},
   "outputs": [
    {
     "name": "stdout",
     "output_type": "stream",
     "text": [
      "0\n"
     ]
    }
   ],
   "source": [
    "some_object = 0\n",
    "def my_function(an_object):\n",
    "    return an_object\n",
    "\n",
    "print(my_function(some_object))"
   ]
  },
  {
   "cell_type": "markdown",
   "metadata": {},
   "source": [
    "- Functions can have default values for their explicit parameters\n",
    "- You can set specific explicit parameters when calling a function"
   ]
  },
  {
   "cell_type": "code",
   "execution_count": 5,
   "metadata": {},
   "outputs": [
    {
     "name": "stdout",
     "output_type": "stream",
     "text": [
      "12, No name\n",
      "49, Dax\n"
     ]
    }
   ],
   "source": [
    "def another_function(number=0, name=\"No name\"):\n",
    "    return f\"{number}, {name}\"\n",
    "\n",
    "# Relying on default value for name parameter\n",
    "print(another_function(12))\n",
    "\n",
    "# Explicitly setting parameters, as seen here these do not follow the order that the parameters are in the function definition\n",
    "print(another_function(name=\"Dax\", number=49))"
   ]
  },
  {
   "cell_type": "markdown",
   "metadata": {},
   "source": [
    "## Importing Libraries\n",
    "How to import libraries: You can import libraries using \"import\", such as ```import numpy```\n",
    "There are variations on how to do this:\n",
    "1. To import a library as a different variable name, use the \"as\" keyword\n",
    "2. To import only part of a library, use the \"from\" keyword, such as ```from numpy import array```. You can also use \".\", such as ```import numpy.array```.\n",
    "    - Note that ```from numpy import *``` and ```import numpy.*``` is the same as ```import numpy```"
   ]
  },
  {
   "cell_type": "code",
   "execution_count": 15,
   "metadata": {},
   "outputs": [
    {
     "name": "stdout",
     "output_type": "stream",
     "text": [
      "[[0. 0. 0. ... 0. 0. 0.]\n",
      " [0. 0. 0. ... 0. 0. 0.]\n",
      " [0. 0. 0. ... 0. 0. 0.]\n",
      " ...\n",
      " [0. 0. 0. ... 0. 0. 0.]\n",
      " [0. 0. 0. ... 0. 0. 0.]\n",
      " [0. 0. 0. ... 0. 0. 0.]]\n",
      "(500, 500)\n"
     ]
    }
   ],
   "source": [
    "import numpy as np\n",
    "\n",
    "a = np.zeros((500, 500))\n",
    "print(f\"{a}\\n{a.shape}\")"
   ]
  },
  {
   "cell_type": "markdown",
   "metadata": {},
   "source": []
  }
 ],
 "metadata": {
  "kernelspec": {
   "display_name": "Python 3",
   "language": "python",
   "name": "python3"
  },
  "language_info": {
   "codemirror_mode": {
    "name": "ipython",
    "version": 3
   },
   "file_extension": ".py",
   "mimetype": "text/x-python",
   "name": "python",
   "nbconvert_exporter": "python",
   "pygments_lexer": "ipython3",
   "version": "3.7.4"
  }
 },
 "nbformat": 4,
 "nbformat_minor": 2
}
